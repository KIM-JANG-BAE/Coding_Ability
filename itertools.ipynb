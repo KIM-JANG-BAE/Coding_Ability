{
 "cells": [
  {
   "cell_type": "code",
   "execution_count": 2,
   "metadata": {},
   "outputs": [],
   "source": [
    "# 코테, 알고리즘 풀이에서 많이 사용되는 모듈\n",
    "import re\n",
    "import math\n",
    "import numpy\n",
    "import pandas\n",
    "import collections\n",
    "import functools\n",
    "import itertools"
   ]
  },
  {
   "cell_type": "code",
   "execution_count": 3,
   "metadata": {},
   "outputs": [],
   "source": [
    "# izip, imap, islice, ifillter -> 성능향상"
   ]
  },
  {
   "cell_type": "markdown",
   "metadata": {},
   "source": [
    "## Count"
   ]
  },
  {
   "cell_type": "code",
   "execution_count": 4,
   "metadata": {},
   "outputs": [],
   "source": [
    "def count(start = 0, step = 1):\n",
    "    n = start\n",
    "    while True:\n",
    "        yield n\n",
    "        n += step\n"
   ]
  },
  {
   "cell_type": "code",
   "execution_count": 5,
   "metadata": {},
   "outputs": [
    {
     "name": "stdout",
     "output_type": "stream",
     "text": [
      "0, a\n",
      "0.5, b\n",
      "1.0, c\n"
     ]
    }
   ],
   "source": [
    "for c,s in zip(itertools.count(0,0.5), 'abc'):\n",
    "    print(f'{c}, {s}')"
   ]
  },
  {
   "cell_type": "markdown",
   "metadata": {},
   "source": [
    "## cycle"
   ]
  },
  {
   "cell_type": "code",
   "execution_count": 7,
   "metadata": {},
   "outputs": [
    {
     "name": "stdout",
     "output_type": "stream",
     "text": [
      "0, a\n",
      "1, b\n",
      "2, c\n"
     ]
    }
   ],
   "source": [
    "for c,s in zip(itertools.cycle(range(3)),'abc'):\n",
    "    print(f'{c}, {s}')\n",
    "\n"
   ]
  },
  {
   "cell_type": "code",
   "execution_count": 8,
   "metadata": {},
   "outputs": [
    {
     "name": "stdout",
     "output_type": "stream",
     "text": [
      "0, a\n",
      "1, b\n",
      "0, c\n",
      "1, d\n",
      "0, e\n",
      "1, f\n",
      "0, g\n",
      "1, h\n"
     ]
    }
   ],
   "source": [
    "for c,s in zip(itertools.cycle(range(2)),'abcdefgh'):\n",
    "    print(f'{c}, {s}')\n"
   ]
  },
  {
   "cell_type": "markdown",
   "metadata": {},
   "source": [
    "## repeat"
   ]
  },
  {
   "cell_type": "code",
   "execution_count": 9,
   "metadata": {},
   "outputs": [
    {
     "data": {
      "text/plain": [
       "[0, 1, 4, 9]"
      ]
     },
     "execution_count": 9,
     "metadata": {},
     "output_type": "execute_result"
    }
   ],
   "source": [
    "list(map(pow, range(10), [2, 2, 2, 2]))"
   ]
  },
  {
   "cell_type": "code",
   "execution_count": 10,
   "metadata": {},
   "outputs": [
    {
     "data": {
      "text/plain": [
       "[0, 1, 4, 9, 16, 25, 36, 49, 64, 81]"
      ]
     },
     "execution_count": 10,
     "metadata": {},
     "output_type": "execute_result"
    }
   ],
   "source": [
    "list(map(pow, range(10), itertools.repeat(2)))"
   ]
  },
  {
   "cell_type": "code",
   "execution_count": 11,
   "metadata": {},
   "outputs": [
    {
     "data": {
      "text/plain": [
       "['abc', 'abc', 'abc']"
      ]
     },
     "execution_count": 11,
     "metadata": {},
     "output_type": "execute_result"
    }
   ],
   "source": [
    "list(itertools.repeat('abc',3))"
   ]
  },
  {
   "cell_type": "markdown",
   "metadata": {},
   "source": [
    "## groupby"
   ]
  },
  {
   "cell_type": "code",
   "execution_count": 12,
   "metadata": {},
   "outputs": [
    {
     "data": {
      "text/plain": [
       "['A', 'B', 'C', 'D', 'A', 'B']"
      ]
     },
     "execution_count": 12,
     "metadata": {},
     "output_type": "execute_result"
    }
   ],
   "source": [
    "[k for k,g in itertools.groupby('AAAABBBCCDAABBB')]"
   ]
  },
  {
   "cell_type": "code",
   "execution_count": 13,
   "metadata": {},
   "outputs": [
    {
     "data": {
      "text/plain": [
       "[<itertools._grouper at 0x203dd62caf0>,\n",
       " <itertools._grouper at 0x203dd62cac0>,\n",
       " <itertools._grouper at 0x203dd62e710>,\n",
       " <itertools._grouper at 0x203dd62c910>,\n",
       " <itertools._grouper at 0x203dd62fd60>,\n",
       " <itertools._grouper at 0x203dd62fd00>]"
      ]
     },
     "execution_count": 13,
     "metadata": {},
     "output_type": "execute_result"
    }
   ],
   "source": [
    "[g for k,g in itertools.groupby('AAAABBBCCDAABBB')]"
   ]
  },
  {
   "cell_type": "code",
   "execution_count": 14,
   "metadata": {},
   "outputs": [
    {
     "data": {
      "text/plain": [
       "[['A', 'A', 'A', 'A'],\n",
       " ['B', 'B', 'B'],\n",
       " ['C', 'C'],\n",
       " ['D'],\n",
       " ['A', 'A'],\n",
       " ['B', 'B', 'B']]"
      ]
     },
     "execution_count": 14,
     "metadata": {},
     "output_type": "execute_result"
    }
   ],
   "source": [
    "[list(g) for k,g in itertools.groupby('AAAABBBCCDAABBB')]"
   ]
  },
  {
   "cell_type": "markdown",
   "metadata": {},
   "source": [
    "## dropwhile "
   ]
  },
  {
   "cell_type": "code",
   "execution_count": 18,
   "metadata": {},
   "outputs": [
    {
     "data": {
      "text/plain": [
       "[6, 7, 8, 9]"
      ]
     },
     "execution_count": 18,
     "metadata": {},
     "output_type": "execute_result"
    }
   ],
   "source": [
    "# filter와 반대라고 생각하면 안됩니다. 순회하면서 멈춘다!\n",
    "# takewhile <-> dropwhile\n",
    "\n",
    "list(itertools.dropwhile(lambda x: x <= 5, range(10)))"
   ]
  },
  {
   "cell_type": "code",
   "execution_count": 19,
   "metadata": {},
   "outputs": [
    {
     "data": {
      "text/plain": [
       "[0, 1, 2, 3, 4, 5]"
      ]
     },
     "execution_count": 19,
     "metadata": {},
     "output_type": "execute_result"
    }
   ],
   "source": [
    "list(filter(lambda x:x <= 5, range(10)))"
   ]
  },
  {
   "cell_type": "markdown",
   "metadata": {},
   "source": [
    "## tee\n",
    "\n",
    "* 한번만 참조 할 수 있다. 두번 참조하는 것은 불가능하다"
   ]
  },
  {
   "cell_type": "code",
   "execution_count": 20,
   "metadata": {},
   "outputs": [],
   "source": [
    "a, b = itertools.tee(range(10), 2)"
   ]
  },
  {
   "cell_type": "code",
   "execution_count": 21,
   "metadata": {},
   "outputs": [
    {
     "data": {
      "text/plain": [
       "[0, 1, 2, 3, 4, 5, 6, 7, 8, 9]"
      ]
     },
     "execution_count": 21,
     "metadata": {},
     "output_type": "execute_result"
    }
   ],
   "source": [
    "list(a)"
   ]
  },
  {
   "cell_type": "code",
   "execution_count": 22,
   "metadata": {},
   "outputs": [
    {
     "data": {
      "text/plain": [
       "[0, 1, 2, 3, 4, 5, 6, 7, 8, 9]"
      ]
     },
     "execution_count": 22,
     "metadata": {},
     "output_type": "execute_result"
    }
   ],
   "source": [
    "list(b)"
   ]
  },
  {
   "cell_type": "markdown",
   "metadata": {},
   "source": [
    "## zip_longest"
   ]
  },
  {
   "cell_type": "code",
   "execution_count": 24,
   "metadata": {},
   "outputs": [
    {
     "data": {
      "text/plain": [
       "[('A', 'x'), ('B', 'y'), ('C', '-'), ('D', '-')]"
      ]
     },
     "execution_count": 24,
     "metadata": {},
     "output_type": "execute_result"
    }
   ],
   "source": [
    "list(itertools.zip_longest('ABCD', 'xy', fillvalue= '-')) # zip은 CD는 해주지 않는다. 하지만 fillvalue를 설정하는 zip_longest는 해당 값을 이용하여 맵핑을 시켜준다"
   ]
  },
  {
   "cell_type": "markdown",
   "metadata": {},
   "source": [
    "## 순열과 조합"
   ]
  },
  {
   "cell_type": "code",
   "execution_count": 26,
   "metadata": {},
   "outputs": [
    {
     "data": {
      "text/plain": [
       "[('A', 'A', 'A'),\n",
       " ('A', 'A', 'B'),\n",
       " ('A', 'A', 'C'),\n",
       " ('A', 'A', 'D'),\n",
       " ('A', 'B', 'A'),\n",
       " ('A', 'B', 'B'),\n",
       " ('A', 'B', 'C'),\n",
       " ('A', 'B', 'D'),\n",
       " ('A', 'C', 'A'),\n",
       " ('A', 'C', 'B'),\n",
       " ('A', 'C', 'C'),\n",
       " ('A', 'C', 'D'),\n",
       " ('A', 'D', 'A'),\n",
       " ('A', 'D', 'B'),\n",
       " ('A', 'D', 'C'),\n",
       " ('A', 'D', 'D'),\n",
       " ('B', 'A', 'A'),\n",
       " ('B', 'A', 'B'),\n",
       " ('B', 'A', 'C'),\n",
       " ('B', 'A', 'D'),\n",
       " ('B', 'B', 'A'),\n",
       " ('B', 'B', 'B'),\n",
       " ('B', 'B', 'C'),\n",
       " ('B', 'B', 'D'),\n",
       " ('B', 'C', 'A'),\n",
       " ('B', 'C', 'B'),\n",
       " ('B', 'C', 'C'),\n",
       " ('B', 'C', 'D'),\n",
       " ('B', 'D', 'A'),\n",
       " ('B', 'D', 'B'),\n",
       " ('B', 'D', 'C'),\n",
       " ('B', 'D', 'D'),\n",
       " ('C', 'A', 'A'),\n",
       " ('C', 'A', 'B'),\n",
       " ('C', 'A', 'C'),\n",
       " ('C', 'A', 'D'),\n",
       " ('C', 'B', 'A'),\n",
       " ('C', 'B', 'B'),\n",
       " ('C', 'B', 'C'),\n",
       " ('C', 'B', 'D'),\n",
       " ('C', 'C', 'A'),\n",
       " ('C', 'C', 'B'),\n",
       " ('C', 'C', 'C'),\n",
       " ('C', 'C', 'D'),\n",
       " ('C', 'D', 'A'),\n",
       " ('C', 'D', 'B'),\n",
       " ('C', 'D', 'C'),\n",
       " ('C', 'D', 'D'),\n",
       " ('D', 'A', 'A'),\n",
       " ('D', 'A', 'B'),\n",
       " ('D', 'A', 'C'),\n",
       " ('D', 'A', 'D'),\n",
       " ('D', 'B', 'A'),\n",
       " ('D', 'B', 'B'),\n",
       " ('D', 'B', 'C'),\n",
       " ('D', 'B', 'D'),\n",
       " ('D', 'C', 'A'),\n",
       " ('D', 'C', 'B'),\n",
       " ('D', 'C', 'C'),\n",
       " ('D', 'C', 'D'),\n",
       " ('D', 'D', 'A'),\n",
       " ('D', 'D', 'B'),\n",
       " ('D', 'D', 'C'),\n",
       " ('D', 'D', 'D')]"
      ]
     },
     "execution_count": 26,
     "metadata": {},
     "output_type": "execute_result"
    }
   ],
   "source": [
    "list(itertools.product('ABCD',repeat = 3)) # 중복을 허락하지 않고"
   ]
  },
  {
   "cell_type": "code",
   "execution_count": 28,
   "metadata": {},
   "outputs": [
    {
     "data": {
      "text/plain": [
       "[('A', 'B', 'C'),\n",
       " ('A', 'B', 'D'),\n",
       " ('A', 'C', 'B'),\n",
       " ('A', 'C', 'D'),\n",
       " ('A', 'D', 'B'),\n",
       " ('A', 'D', 'C'),\n",
       " ('B', 'A', 'C'),\n",
       " ('B', 'A', 'D'),\n",
       " ('B', 'C', 'A'),\n",
       " ('B', 'C', 'D'),\n",
       " ('B', 'D', 'A'),\n",
       " ('B', 'D', 'C'),\n",
       " ('C', 'A', 'B'),\n",
       " ('C', 'A', 'D'),\n",
       " ('C', 'B', 'A'),\n",
       " ('C', 'B', 'D'),\n",
       " ('C', 'D', 'A'),\n",
       " ('C', 'D', 'B'),\n",
       " ('D', 'A', 'B'),\n",
       " ('D', 'A', 'C'),\n",
       " ('D', 'B', 'A'),\n",
       " ('D', 'B', 'C'),\n",
       " ('D', 'C', 'A'),\n",
       " ('D', 'C', 'B')]"
      ]
     },
     "execution_count": 28,
     "metadata": {},
     "output_type": "execute_result"
    }
   ],
   "source": [
    "# 순열 : 중복허락 O, 조합 : 중복허락 X\n",
    "list(itertools.permutations('ABCD',3)) \n"
   ]
  },
  {
   "cell_type": "code",
   "execution_count": 29,
   "metadata": {},
   "outputs": [
    {
     "data": {
      "text/plain": [
       "[('A', 'B'), ('A', 'C'), ('A', 'D'), ('B', 'C'), ('B', 'D'), ('C', 'D')]"
      ]
     },
     "execution_count": 29,
     "metadata": {},
     "output_type": "execute_result"
    }
   ],
   "source": [
    "list(itertools.combinations('ABCD',2)) # 조합"
   ]
  },
  {
   "cell_type": "code",
   "execution_count": 30,
   "metadata": {},
   "outputs": [
    {
     "data": {
      "text/plain": [
       "[('A', 'A'),\n",
       " ('A', 'B'),\n",
       " ('A', 'C'),\n",
       " ('A', 'D'),\n",
       " ('B', 'B'),\n",
       " ('B', 'C'),\n",
       " ('B', 'D'),\n",
       " ('C', 'C'),\n",
       " ('C', 'D'),\n",
       " ('D', 'D')]"
      ]
     },
     "execution_count": 30,
     "metadata": {},
     "output_type": "execute_result"
    }
   ],
   "source": [
    "list(itertools.combinations_with_replacement('ABCD',2)) # 개별요소 반복 허용\n"
   ]
  },
  {
   "cell_type": "code",
   "execution_count": null,
   "metadata": {},
   "outputs": [],
   "source": []
  }
 ],
 "metadata": {
  "kernelspec": {
   "display_name": "Python 3",
   "language": "python",
   "name": "python3"
  },
  "language_info": {
   "codemirror_mode": {
    "name": "ipython",
    "version": 3
   },
   "file_extension": ".py",
   "mimetype": "text/x-python",
   "name": "python",
   "nbconvert_exporter": "python",
   "pygments_lexer": "ipython3",
   "version": "3.11.0"
  }
 },
 "nbformat": 4,
 "nbformat_minor": 2
}
