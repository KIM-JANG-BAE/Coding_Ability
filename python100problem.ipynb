{
 "cells": [
  {
   "cell_type": "markdown",
   "metadata": {},
   "source": [
    "### 10번까지 푼 문제는 파일이 날아가... 11번 부터 시작"
   ]
  },
  {
   "cell_type": "markdown",
   "metadata": {},
   "source": [
    "# 문제11 : for를 이용한 기본 활용\n",
    "\n",
    "1부터 100까지 모두 더하는 Code를 'pass' 부분에 완성하세요. for를 사용해야 합니다."
   ]
  },
  {
   "cell_type": "code",
   "execution_count": null,
   "metadata": {},
   "outputs": [],
   "source": [
    "s = 0\n",
    "\n",
    "pass\n",
    "\n",
    "print(s)"
   ]
  },
  {
   "cell_type": "code",
   "execution_count": 1,
   "metadata": {},
   "outputs": [
    {
     "name": "stdout",
     "output_type": "stream",
     "text": [
      "5050\n"
     ]
    }
   ],
   "source": [
    "s = 0\n",
    "\n",
    "for i in range(1,101,1):\n",
    "    s += i\n",
    "\n",
    "print(s)"
   ]
  },
  {
   "cell_type": "markdown",
   "metadata": {},
   "source": [
    "# 문제12 : 게임 캐릭터 클래스 만들기\n",
    "\n",
    "다음 소스코드에서 클래스를 작성하여 게임 캐릭터의 능력치와 '파이어볼'이 출력되게 만드시오.\n",
    "\n",
    "**주어진 소스 코드를 수정해선 안됩니다.**"
   ]
  },
  {
   "cell_type": "markdown",
   "metadata": {},
   "source": [
    "출력예시\n",
    "\n",
    "545 210 10\n",
    "파이어볼"
   ]
  },
  {
   "cell_type": "code",
   "execution_count": 3,
   "metadata": {},
   "outputs": [
    {
     "name": "stdout",
     "output_type": "stream",
     "text": [
      "545 210 10\n",
      "파이어볼\n"
     ]
    }
   ],
   "source": [
    "class Wizard(object):\n",
    "    def __init__(self, health, mana, armor):\n",
    "        self.health = health\n",
    "        self.mana = mana\n",
    "        self.armor = armor\n",
    "    \n",
    "    def attack(self):\n",
    "        print('파이어볼')\n",
    "\n",
    "jik = Wizard(health = 545, mana = 210, armor = 10)\n",
    "print(jik.health, jik.mana, jik.armor)\n",
    "jik.attack()"
   ]
  },
  {
   "cell_type": "markdown",
   "metadata": {},
   "source": [
    "# 문제13 : 몇 번째 행성인가요?\n",
    "\n",
    "우리 태양계를 이루고 있는 행성은 수성, 금성, 지구, 화성, 목성, 토성, 천왕성, 해왕성으로 총 8개 입니다. 저희는 우리 태양계의 n번째 행성이 무엇인지 알고 싶습니다.\n",
    "\n",
    "입력으로 행성의 순서를 나타내는 숫자 n이 입력됩니다. 예를들어 수성은 첫번째 행성입니다.\n",
    "\n",
    "입력으로 행성의 순서를 나타내는 숫자 n이 입력됩니다. 예를들어 수성은 첫번째 행성입니다.\n",
    "\n",
    "```python\n",
    "1\n",
    "```\n",
    "\n",
    "출력으로 그 순서에 해당하는 행성의 이름을 출력해 주세요.\n",
    "\n",
    "```python\n",
    "수성\n",
    "```"
   ]
  },
  {
   "cell_type": "code",
   "execution_count": 4,
   "metadata": {},
   "outputs": [
    {
     "name": "stdout",
     "output_type": "stream",
     "text": [
      "수성\n"
     ]
    }
   ],
   "source": [
    "d = {1:'수성', 2:'금성', 3:'지구', 4:'화성', 5:'목성', 6:'토성', 7:'천왕성', 8:'해왕성'}\n",
    "\n",
    "input_value = int(input())\n",
    "\n",
    "print(d[input_value])"
   ]
  },
  {
   "cell_type": "markdown",
   "metadata": {},
   "source": [
    "# 문제14 : 3의 배수 인가요?\n",
    "영희는 친구와 게임을 하고 있습니다. 서로 돌아가며 랜덤으로 숫자를 하나 말하고 그게 3의 배수이면 박수를 치고 아니면 그 숫자를 그대로 말하는 게임입니다.\n",
    "\n",
    "입력으로 랜덤한 숫자 n이 주어집니다.\n",
    "\n",
    "만약 그 수가 3의 배수라면 '짝'이라는 글자를, 3의 배수가 아니라면 n을 그대로 출력해 주세요.\n",
    "\n",
    "입력\n",
    "```python\n",
    "3\n",
    "```\n",
    "\n",
    "출력\n",
    "```python\n",
    "짝\n",
    "```\n",
    "\n",
    "입력\n",
    "```python\n",
    "2\n",
    "```\n",
    "​\n",
    "출력\n",
    "```python\n",
    "2\n",
    "```"
   ]
  },
  {
   "cell_type": "code",
   "execution_count": 5,
   "metadata": {},
   "outputs": [
    {
     "name": "stdout",
     "output_type": "stream",
     "text": [
      "짝\n"
     ]
    }
   ],
   "source": [
    "a = int(input())\n",
    "\n",
    "if a % 3 == 0:\n",
    "    print('짝')\n",
    "else:\n",
    "    print(a)\n",
    "    "
   ]
  },
  {
   "cell_type": "markdown",
   "metadata": {},
   "source": [
    "# 문제15 : 자기소개\n",
    "\n",
    "신학기가 시작되고, 아이들이 돌아가면서 자기소개를 하기로 했습니다.\n",
    "\n",
    "만약 입력으로 `김다정`이라는 이름이 주어지면\n",
    "\n",
    "```python\n",
    "안녕하세요. 저는 김다정입니다.\n",
    "```\n",
    "\n",
    "라고 출력하게 해주세요."
   ]
  },
  {
   "cell_type": "code",
   "execution_count": 6,
   "metadata": {},
   "outputs": [
    {
     "name": "stdout",
     "output_type": "stream",
     "text": [
      "안녕하세요. 저는 김장배입니다.\n"
     ]
    }
   ],
   "source": [
    "a = input()\n",
    "\n",
    "print(f'안녕하세요. 저는 {a}입니다.')"
   ]
  },
  {
   "cell_type": "markdown",
   "metadata": {},
   "source": [
    "# 문제16 : 로꾸거\n",
    "문장이 입력되면 거꾸로 출력하는 프로그램을 만들어 봅시다.\n",
    "\n",
    "입력\n",
    "거꾸로\n",
    "\n",
    "출력\n",
    "로꾸거"
   ]
  },
  {
   "cell_type": "code",
   "execution_count": 8,
   "metadata": {},
   "outputs": [
    {
     "name": "stdout",
     "output_type": "stream",
     "text": [
      "로꾸거\n"
     ]
    }
   ],
   "source": [
    "a = input()\n",
    "\n",
    "print(a[::-1])"
   ]
  },
  {
   "cell_type": "markdown",
   "metadata": {},
   "source": [
    "# 문제17 : 놀이기구 키 제한\n",
    "\n",
    "유주는 놀이공원 아르바이트 중입니다. 그런데 놀이기구마다 키 제한이 있습니다.\n",
    "유주가 담당하는 놀이기구는 키가 150 이상만 탈 수 있습니다.\n",
    "\n",
    "입력으로 키가 주어지면\n",
    "키가 150이 이상이면 **YES**를 틀리면 **NO**를 출력하는 프로그램을 작성하세요."
   ]
  },
  {
   "cell_type": "code",
   "execution_count": 9,
   "metadata": {},
   "outputs": [
    {
     "name": "stdout",
     "output_type": "stream",
     "text": [
      "YES\n"
     ]
    }
   ],
   "source": [
    "a = int(input())\n",
    "\n",
    "if a >= 150:\n",
    "    print('YES')\n",
    "else:\n",
    "    print('NO')"
   ]
  },
  {
   "cell_type": "markdown",
   "metadata": {},
   "source": [
    "# 문제18 : 평균 점수\n",
    "영하네 반은 국어, 수학, 영어 시험을 보았습니다. 영하는 친구들의 평균 점수를 구해주기로 했습니다.\n",
    "\n",
    "공백으로 구분하여 세 과목의 점수가 주어지면\n",
    "전체 평균 점수를 구하는 프로그램을 작성하세요. 단, 소숫점 자리는 모두 버립니다.\n",
    "\n",
    "입력\n",
    "```python\n",
    "20 30 40\n",
    "```\n",
    "\n",
    "출력\n",
    "\n",
    "```python\n",
    "30\n",
    "```"
   ]
  },
  {
   "cell_type": "code",
   "execution_count": 12,
   "metadata": {},
   "outputs": [
    {
     "name": "stdout",
     "output_type": "stream",
     "text": [
      "20\n"
     ]
    }
   ],
   "source": [
    "a, b, c = map(int,input().split(' '))\n",
    "\n",
    "print((a+b+c)//3)"
   ]
  },
  {
   "cell_type": "markdown",
   "metadata": {},
   "source": [
    "# 문제19 : 제곱을 구하자\n",
    "\n",
    "공백으로 구분하여 두 숫자 a와 b가 주어지면, **a의 b승**을 구하는 프로그램을 작성하세요."
   ]
  },
  {
   "cell_type": "code",
   "execution_count": 13,
   "metadata": {},
   "outputs": [
    {
     "name": "stdout",
     "output_type": "stream",
     "text": [
      "8\n"
     ]
    }
   ],
   "source": [
    "a, b = map(int, input().split(' '))\n",
    "\n",
    "print(pow(a,b))\n",
    "\n"
   ]
  },
  {
   "cell_type": "markdown",
   "metadata": {},
   "source": [
    "# 문제20 : 몫과 나머지\n",
    "\n",
    "공백으로 구분하여 두 숫자가 주어집니다.\n",
    "첫번째 숫자로 두번째 숫자를 나누었을 때 **그 몫과 나머지를 공백으로 구분하여 출력하세요.**\n",
    "\n",
    "입력\n",
    "```python\n",
    "10 2\n",
    "```\n",
    "출력\n",
    "```python\n",
    "5 0\n",
    "```\n"
   ]
  },
  {
   "cell_type": "code",
   "execution_count": 14,
   "metadata": {},
   "outputs": [
    {
     "name": "stdout",
     "output_type": "stream",
     "text": [
      "5 0\n"
     ]
    }
   ],
   "source": [
    "a, b = map(int, input().split(' '))\n",
    "\n",
    "c = a // b\n",
    "d = a % b\n",
    "\n",
    "print(c,d)"
   ]
  },
  {
   "cell_type": "code",
   "execution_count": null,
   "metadata": {},
   "outputs": [],
   "source": []
  }
 ],
 "metadata": {
  "kernelspec": {
   "display_name": "Python 3",
   "language": "python",
   "name": "python3"
  },
  "language_info": {
   "codemirror_mode": {
    "name": "ipython",
    "version": 3
   },
   "file_extension": ".py",
   "mimetype": "text/x-python",
   "name": "python",
   "nbconvert_exporter": "python",
   "pygments_lexer": "ipython3",
   "version": "3.11.0"
  }
 },
 "nbformat": 4,
 "nbformat_minor": 2
}
