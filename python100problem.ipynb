{
 "cells": [
  {
   "cell_type": "markdown",
   "metadata": {},
   "source": [
    "### 10번까지 푼 문제는 파일이 날아가... 11번 부터 시작"
   ]
  },
  {
   "cell_type": "markdown",
   "metadata": {},
   "source": [
    "# 문제11 : for를 이용한 기본 활용\n",
    "\n",
    "1부터 100까지 모두 더하는 Code를 'pass' 부분에 완성하세요. for를 사용해야 합니다."
   ]
  },
  {
   "cell_type": "code",
   "execution_count": null,
   "metadata": {},
   "outputs": [],
   "source": [
    "s = 0\n",
    "\n",
    "pass\n",
    "\n",
    "print(s)"
   ]
  },
  {
   "cell_type": "code",
   "execution_count": 1,
   "metadata": {},
   "outputs": [
    {
     "name": "stdout",
     "output_type": "stream",
     "text": [
      "5050\n"
     ]
    }
   ],
   "source": [
    "s = 0\n",
    "\n",
    "for i in range(1,101,1):\n",
    "    s += i\n",
    "\n",
    "print(s)"
   ]
  },
  {
   "cell_type": "markdown",
   "metadata": {},
   "source": [
    "# 문제12 : 게임 캐릭터 클래스 만들기\n",
    "\n",
    "다음 소스코드에서 클래스를 작성하여 게임 캐릭터의 능력치와 '파이어볼'이 출력되게 만드시오.\n",
    "\n",
    "**주어진 소스 코드를 수정해선 안됩니다.**"
   ]
  },
  {
   "cell_type": "markdown",
   "metadata": {},
   "source": [
    "출력예시\n",
    "\n",
    "545 210 10\n",
    "파이어볼"
   ]
  },
  {
   "cell_type": "code",
   "execution_count": 3,
   "metadata": {},
   "outputs": [
    {
     "name": "stdout",
     "output_type": "stream",
     "text": [
      "545 210 10\n",
      "파이어볼\n"
     ]
    }
   ],
   "source": [
    "class Wizard(object):\n",
    "    def __init__(self, health, mana, armor):\n",
    "        self.health = health\n",
    "        self.mana = mana\n",
    "        self.armor = armor\n",
    "    \n",
    "    def attack(self):\n",
    "        print('파이어볼')\n",
    "\n",
    "jik = Wizard(health = 545, mana = 210, armor = 10)\n",
    "print(jik.health, jik.mana, jik.armor)\n",
    "jik.attack()"
   ]
  },
  {
   "cell_type": "markdown",
   "metadata": {},
   "source": [
    "# 문제13 : 몇 번째 행성인가요?\n",
    "\n",
    "우리 태양계를 이루고 있는 행성은 수성, 금성, 지구, 화성, 목성, 토성, 천왕성, 해왕성으로 총 8개 입니다. 저희는 우리 태양계의 n번째 행성이 무엇인지 알고 싶습니다.\n",
    "\n",
    "입력으로 행성의 순서를 나타내는 숫자 n이 입력됩니다. 예를들어 수성은 첫번째 행성입니다.\n",
    "\n",
    "입력으로 행성의 순서를 나타내는 숫자 n이 입력됩니다. 예를들어 수성은 첫번째 행성입니다.\n",
    "\n",
    "```python\n",
    "1\n",
    "```\n",
    "\n",
    "출력으로 그 순서에 해당하는 행성의 이름을 출력해 주세요.\n",
    "\n",
    "```python\n",
    "수성\n",
    "```"
   ]
  },
  {
   "cell_type": "code",
   "execution_count": 4,
   "metadata": {},
   "outputs": [
    {
     "name": "stdout",
     "output_type": "stream",
     "text": [
      "수성\n"
     ]
    }
   ],
   "source": [
    "d = {1:'수성', 2:'금성', 3:'지구', 4:'화성', 5:'목성', 6:'토성', 7:'천왕성', 8:'해왕성'}\n",
    "\n",
    "input_value = int(input())\n",
    "\n",
    "print(d[input_value])"
   ]
  },
  {
   "cell_type": "markdown",
   "metadata": {},
   "source": [
    "# 문제14 : 3의 배수 인가요?\n",
    "영희는 친구와 게임을 하고 있습니다. 서로 돌아가며 랜덤으로 숫자를 하나 말하고 그게 3의 배수이면 박수를 치고 아니면 그 숫자를 그대로 말하는 게임입니다.\n",
    "\n",
    "입력으로 랜덤한 숫자 n이 주어집니다.\n",
    "\n",
    "만약 그 수가 3의 배수라면 '짝'이라는 글자를, 3의 배수가 아니라면 n을 그대로 출력해 주세요.\n",
    "\n",
    "입력\n",
    "```python\n",
    "3\n",
    "```\n",
    "\n",
    "출력\n",
    "```python\n",
    "짝\n",
    "```\n",
    "\n",
    "입력\n",
    "```python\n",
    "2\n",
    "```\n",
    "​\n",
    "출력\n",
    "```python\n",
    "2\n",
    "```"
   ]
  },
  {
   "cell_type": "code",
   "execution_count": 5,
   "metadata": {},
   "outputs": [
    {
     "name": "stdout",
     "output_type": "stream",
     "text": [
      "짝\n"
     ]
    }
   ],
   "source": [
    "a = int(input())\n",
    "\n",
    "if a % 3 == 0:\n",
    "    print('짝')\n",
    "else:\n",
    "    print(a)\n",
    "    "
   ]
  },
  {
   "cell_type": "markdown",
   "metadata": {},
   "source": [
    "# 문제15 : 자기소개\n",
    "\n",
    "신학기가 시작되고, 아이들이 돌아가면서 자기소개를 하기로 했습니다.\n",
    "\n",
    "만약 입력으로 `김다정`이라는 이름이 주어지면\n",
    "\n",
    "```python\n",
    "안녕하세요. 저는 김다정입니다.\n",
    "```\n",
    "\n",
    "라고 출력하게 해주세요."
   ]
  },
  {
   "cell_type": "code",
   "execution_count": 6,
   "metadata": {},
   "outputs": [
    {
     "name": "stdout",
     "output_type": "stream",
     "text": [
      "안녕하세요. 저는 김장배입니다.\n"
     ]
    }
   ],
   "source": [
    "a = input()\n",
    "\n",
    "print(f'안녕하세요. 저는 {a}입니다.')"
   ]
  },
  {
   "cell_type": "markdown",
   "metadata": {},
   "source": [
    "# 문제16 : 로꾸거\n",
    "문장이 입력되면 거꾸로 출력하는 프로그램을 만들어 봅시다.\n",
    "\n",
    "입력\n",
    "거꾸로\n",
    "\n",
    "출력\n",
    "로꾸거"
   ]
  },
  {
   "cell_type": "code",
   "execution_count": 8,
   "metadata": {},
   "outputs": [
    {
     "name": "stdout",
     "output_type": "stream",
     "text": [
      "로꾸거\n"
     ]
    }
   ],
   "source": [
    "a = input()\n",
    "\n",
    "print(a[::-1])"
   ]
  },
  {
   "cell_type": "markdown",
   "metadata": {},
   "source": [
    "# 문제17 : 놀이기구 키 제한\n",
    "\n",
    "유주는 놀이공원 아르바이트 중입니다. 그런데 놀이기구마다 키 제한이 있습니다.\n",
    "유주가 담당하는 놀이기구는 키가 150 이상만 탈 수 있습니다.\n",
    "\n",
    "입력으로 키가 주어지면\n",
    "키가 150이 이상이면 **YES**를 틀리면 **NO**를 출력하는 프로그램을 작성하세요."
   ]
  },
  {
   "cell_type": "code",
   "execution_count": 9,
   "metadata": {},
   "outputs": [
    {
     "name": "stdout",
     "output_type": "stream",
     "text": [
      "YES\n"
     ]
    }
   ],
   "source": [
    "a = int(input())\n",
    "\n",
    "if a >= 150:\n",
    "    print('YES')\n",
    "else:\n",
    "    print('NO')"
   ]
  },
  {
   "cell_type": "markdown",
   "metadata": {},
   "source": [
    "# 문제18 : 평균 점수\n",
    "영하네 반은 국어, 수학, 영어 시험을 보았습니다. 영하는 친구들의 평균 점수를 구해주기로 했습니다.\n",
    "\n",
    "공백으로 구분하여 세 과목의 점수가 주어지면\n",
    "전체 평균 점수를 구하는 프로그램을 작성하세요. 단, 소숫점 자리는 모두 버립니다.\n",
    "\n",
    "입력\n",
    "```python\n",
    "20 30 40\n",
    "```\n",
    "\n",
    "출력\n",
    "\n",
    "```python\n",
    "30\n",
    "```"
   ]
  },
  {
   "cell_type": "code",
   "execution_count": 12,
   "metadata": {},
   "outputs": [
    {
     "name": "stdout",
     "output_type": "stream",
     "text": [
      "20\n"
     ]
    }
   ],
   "source": [
    "a, b, c = map(int,input().split(' '))\n",
    "\n",
    "print((a+b+c)//3)"
   ]
  },
  {
   "cell_type": "markdown",
   "metadata": {},
   "source": [
    "# 문제19 : 제곱을 구하자\n",
    "\n",
    "공백으로 구분하여 두 숫자 a와 b가 주어지면, **a의 b승**을 구하는 프로그램을 작성하세요."
   ]
  },
  {
   "cell_type": "code",
   "execution_count": 13,
   "metadata": {},
   "outputs": [
    {
     "name": "stdout",
     "output_type": "stream",
     "text": [
      "8\n"
     ]
    }
   ],
   "source": [
    "a, b = map(int, input().split(' '))\n",
    "\n",
    "print(pow(a,b))\n",
    "\n"
   ]
  },
  {
   "cell_type": "markdown",
   "metadata": {},
   "source": [
    "# 문제20 : 몫과 나머지\n",
    "\n",
    "공백으로 구분하여 두 숫자가 주어집니다.\n",
    "첫번째 숫자로 두번째 숫자를 나누었을 때 **그 몫과 나머지를 공백으로 구분하여 출력하세요.**\n",
    "\n",
    "입력\n",
    "```python\n",
    "10 2\n",
    "```\n",
    "출력\n",
    "```python\n",
    "5 0\n",
    "```\n"
   ]
  },
  {
   "cell_type": "code",
   "execution_count": 14,
   "metadata": {},
   "outputs": [
    {
     "name": "stdout",
     "output_type": "stream",
     "text": [
      "5 0\n"
     ]
    }
   ],
   "source": [
    "a, b = map(int, input().split(' '))\n",
    "\n",
    "c = a // b\n",
    "d = a % b\n",
    "\n",
    "print(c,d)"
   ]
  },
  {
   "cell_type": "markdown",
   "metadata": {},
   "source": [
    "# 문제21 : set은 어떻게 만드나요?\n",
    "\n",
    "다음 중 set을 만드는 방법이 아닌 것?\n",
    "\n",
    "1)  x = {1, 2, 3, 5, 6, 7}\n",
    "2)  x = {}\n",
    "3)  x = set('python')\n",
    "4)  x = set(range(5))\n",
    "5)  x = set()\n",
    "\n",
    "답 : 2번 이유 : 해당 방법은 set으로 여겨지지 않는다.\n"
   ]
  },
  {
   "cell_type": "markdown",
   "metadata": {},
   "source": [
    "# 문제22 : 배수인지 확인하기\n",
    "\n",
    "다음 중 변수 i가 6의 배수인지 확인하는 방법으로 올바른 것은?\n",
    "\n",
    "1)  i / 6 == 0\n",
    "2)  i % 6 == 0\n",
    "3)  i & 6 == 0\n",
    "4)  i | 6 == 0\n",
    "5)  i // 6 == 0\n",
    "\n",
    "답 : 2번 이유 : 6으로 나눴을때 나머지가 0이라는 것이 곧 6의 배수라는 의미이다.\n"
   ]
  },
  {
   "cell_type": "markdown",
   "metadata": {},
   "source": [
    "# 문제23 : OX문제\n",
    "\n",
    "print(10/2)의 출력 결과는 **5**이다. \n",
    "\n",
    "답 : X 이유 : /의 결과값은 float이기 때문이다. 5.0이 정답이다."
   ]
  },
  {
   "cell_type": "markdown",
   "metadata": {},
   "source": [
    "# 문제24 : 대문자로 바꿔주세요!\n",
    "\n",
    "민지는 국제 포럼에서 아르바이트를 하게 되었습니다. 민지는 각 국에서 온 참가자들의 명단을 엑셀로 정리하고 있는데 참가자들 이름이 어떤 이는 전부 소문자, 어떤 이는 전부 대문자로 써져 있는 등 형식이 제각각이었습니다.\n",
    "\n",
    "민지를 위해 이름이 입력되면 전부 대문자로 출력되는 프로그램을 만들어주세요.\n",
    "\n",
    "입력\n",
    "```python\n",
    "mary\n",
    "```\n",
    "​\n",
    "출력\n",
    "```python\n",
    "MARY\n",
    "```"
   ]
  },
  {
   "cell_type": "code",
   "execution_count": 3,
   "metadata": {},
   "outputs": [
    {
     "name": "stdout",
     "output_type": "stream",
     "text": [
      "MARY\n"
     ]
    }
   ],
   "source": [
    "a = input().upper()\n",
    "\n",
    "print(a)"
   ]
  },
  {
   "cell_type": "markdown",
   "metadata": {},
   "source": [
    "# 문제25 : 원의 넓이를 구하세요\n",
    "\n",
    "원의 넓이는 `반지름의 길이 x 반지름의 길이 x 3.14`로 구할 수 있습니다.\n",
    "함수를 사용하여 원의 넓이를 구하는 코드를 작성해봅시다.\n",
    "\n",
    "**입력을 반지름의 길이로 정수 n이 주어지면 원의 넓이를 반환하는 함수**를 만들어 주세요.\n",
    "(입력을 해야하기 때문에 input을 반드시 사용해야합니다)"
   ]
  },
  {
   "cell_type": "code",
   "execution_count": 4,
   "metadata": {},
   "outputs": [
    {
     "name": "stdout",
     "output_type": "stream",
     "text": [
      "314.0\n"
     ]
    }
   ],
   "source": [
    "def circle(radius):\n",
    "    return radius * radius * 3.14\n",
    "\n",
    "print(circle(int(input())))"
   ]
  },
  {
   "cell_type": "markdown",
   "metadata": {},
   "source": [
    "# 문제26 : 행성 문제2\n",
    "\n",
    "우리 태양계를 이루는 행성은 수성, 금성, 지구, 화성, 목성, 토성, 천왕성, 해왕성이 있습니다.\n",
    "이 행성들의 영어 이름은 Mercury, Venus, Earth, Mars, Jupiter, Saturn, Uranus, Neptune입니다.\n",
    "\n",
    "**행성의 한글 이름을 입력하면 영어 이름을 반환하는 프로그램**을 만들어 주세요."
   ]
  },
  {
   "cell_type": "code",
   "execution_count": 5,
   "metadata": {},
   "outputs": [
    {
     "name": "stdout",
     "output_type": "stream",
     "text": [
      "Earth\n"
     ]
    }
   ],
   "source": [
    "d = {'수성' :'Mercury','금성' : 'Venus','지구' : 'Earth','화성' : 'Mars','목성' : 'Jupiter','토성' : 'Saturn','천왕성' : 'Uranus','해왕성' : 'Neptune'}\n",
    "\n",
    "print(d[input()])"
   ]
  },
  {
   "cell_type": "markdown",
   "metadata": {},
   "source": [
    "문제27 : 딕셔너리 만들기\n",
    "\n",
    "첫 줄에는 학생의 이름이 공백으로 구분되어 입력되고, 두번째 줄에는 그 학생의 수학 점수가 공백으로 구분되어 주어집니다.\n",
    "\n",
    "두 개를 합쳐 학생의 이름이 key이고 value가 수학 점수인 딕셔너리를 출력해주세요.\n",
    "\n",
    ">입력\n",
    "```python\n",
    "Yujin Hyewon\n",
    "70 100\n",
    "```\n",
    "​\n",
    "> 출력\n",
    "```python\n",
    "{'Yujin': 70, 'Hyewon': 100}\n",
    "```"
   ]
  },
  {
   "cell_type": "code",
   "execution_count": 11,
   "metadata": {},
   "outputs": [
    {
     "name": "stdout",
     "output_type": "stream",
     "text": [
      "{'김장배': 10, '김명휴': 20}\n"
     ]
    }
   ],
   "source": [
    "a = input().split(' ')\n",
    "b = input().split(' ')\n",
    "c = []\n",
    "d = {}\n",
    "\n",
    "for _ in range(len(a)):\n",
    "    c.append((a[_],int(b[_])))\n",
    "    \n",
    "d = dict(c)\n",
    "print(d)"
   ]
  },
  {
   "cell_type": "markdown",
   "metadata": {},
   "source": [
    "# 문제28 : 2-gram\n",
    "\n",
    "**2-gram**이란 문자열에서 2개의 연속된 요소를 출력하는 방법입니다. \n",
    "예를 들어 '**Python**'을 2-gram으로 반복해 본다면 다음과 같은 결과가 나옵니다.\n",
    "\n",
    "```python\n",
    "Py\n",
    "yt\n",
    "th\n",
    "ho\n",
    "on\n",
    "```\n",
    "\n",
    "입력으로 문자열이 주어지면 **2-gram**으로 출력하는 프로그램을 작성해 주세요."
   ]
  },
  {
   "cell_type": "code",
   "execution_count": 14,
   "metadata": {},
   "outputs": [
    {
     "name": "stdout",
     "output_type": "stream",
     "text": [
      "py\n",
      "yt\n",
      "th\n",
      "ho\n",
      "on\n"
     ]
    }
   ],
   "source": [
    "def two_gram(a):\n",
    "    for i in range(len(a)-1):\n",
    "        print(a[i:i+2])\n",
    "\n",
    "two_gram('python')"
   ]
  },
  {
   "cell_type": "markdown",
   "metadata": {},
   "source": [
    "# 문제29 : 대문자만 지나가세요\n",
    "\n",
    "진구는 영어 학원 아르바이트를 하고 있습니다. 반 아이들은 알파벳을 공부하는 학생들인데 오늘은 대문자 쓰기 시험을 봤습니다.\n",
    "\n",
    "**알파벳 하나만을 입력하고 그 알파벳이 대문자이면 YES를 아니면 NO를 출력하는 프로그램**을 만들어 주세요.\n",
    "\n",
    "→ 알파벳 여러개를 입력하고 여러개 입력한 것 중 대문자만 출력해주는 프로그램도 만들어보세요."
   ]
  },
  {
   "cell_type": "code",
   "execution_count": 20,
   "metadata": {},
   "outputs": [
    {
     "name": "stdout",
     "output_type": "stream",
     "text": [
      "YES\n",
      "A\n",
      "A\n",
      "S\n",
      "J\n",
      "D\n",
      "K\n"
     ]
    }
   ],
   "source": [
    "def is_upper(c):\n",
    "    if c >= 'Z':\n",
    "        print('NO')\n",
    "    else:\n",
    "        print('YES')\n",
    "\n",
    "def pass_upper(s):\n",
    "    for _ in range(len(s)):\n",
    "        if s[_] >= 'Z':\n",
    "            pass\n",
    "        else:\n",
    "            print(s[_])\n",
    "\n",
    "is_upper('A')\n",
    "pass_upper('AASsdJDssdKd')\n"
   ]
  },
  {
   "cell_type": "markdown",
   "metadata": {},
   "source": [
    "# 문제30 : 문자열 속 문자 찾기\n",
    "문자 pineapple에는 apple이라는 문자가 숨어 있습니다. 원범이는 이렇듯 문자열 속에 숨어있는 문자를 찾아보려고 합니다.\n",
    "\n",
    "입력으로 첫 줄에 문자열이 주어지고 둘째 줄에 찾을 문자가 주어지면 \n",
    "그 문자가 시작하는 index를 반환하는 프로그램을 만들어 주세요\n",
    "\n",
    "\n",
    "입력\n",
    "```python\n",
    "pineapple is yummy\n",
    "apple\n",
    "```\n",
    "\n",
    "출력\n",
    "```python\n",
    "4\n",
    "```"
   ]
  },
  {
   "cell_type": "code",
   "execution_count": 23,
   "metadata": {},
   "outputs": [
    {
     "name": "stdout",
     "output_type": "stream",
     "text": [
      "-1\n"
     ]
    }
   ],
   "source": [
    "a = input()\n",
    "b = input()\n",
    "print(a.find(b))"
   ]
  },
  {
   "cell_type": "code",
   "execution_count": null,
   "metadata": {},
   "outputs": [],
   "source": []
  }
 ],
 "metadata": {
  "kernelspec": {
   "display_name": "Python 3",
   "language": "python",
   "name": "python3"
  },
  "language_info": {
   "codemirror_mode": {
    "name": "ipython",
    "version": 3
   },
   "file_extension": ".py",
   "mimetype": "text/x-python",
   "name": "python",
   "nbconvert_exporter": "python",
   "pygments_lexer": "ipython3",
   "version": "3.11.0"
  }
 },
 "nbformat": 4,
 "nbformat_minor": 2
}
